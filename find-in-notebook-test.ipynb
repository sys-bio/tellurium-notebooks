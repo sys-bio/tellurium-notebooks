{
  "cells": [
    {
      "cell_type": "code",
      "source": [
        "myvar = 'xyz'\n",
        "myvar1 = 'abc'\n",
        "myvar2 = '123'\n",
        "Myvar3 = '123'\n",
        "print(myvar)\n",
        "print(myvar1)\n",
        "print(myvar2)\n",
        "print(Myvar3)"
      ],
      "outputs": [],
      "execution_count": null,
      "metadata": {
        "collapsed": false,
        "outputHidden": false,
        "inputHidden": false
      }
    },
    {
      "cell_type": "code",
      "source": [
        "myvar = 'xyz'\n",
        "myvar1 = 'abc'\n",
        "myvar2 = '123'\n",
        "Myvar3 = '123'\n",
        "print(myvar)\n",
        "print(myvar1)\n",
        "print(myvar2)\n",
        "print(Myvar3)"
      ],
      "outputs": [],
      "execution_count": null,
      "metadata": {
        "collapsed": false,
        "outputHidden": false,
        "inputHidden": false
      }
    }
  ],
  "metadata": {
    "kernelspec": {
      "name": "tepython3",
      "language": "python",
      "display_name": "Python 3 (built-in)"
    },
    "kernel_info": {
      "name": "tepython3"
    },
    "language_info": {
      "name": "python",
      "version": "3.6.1",
      "mimetype": "text/x-python",
      "codemirror_mode": {
        "name": "ipython",
        "version": 3
      },
      "pygments_lexer": "ipython3",
      "nbconvert_exporter": "python",
      "file_extension": ".py"
    }
  },
  "nbformat": 4,
  "nbformat_minor": 4
}