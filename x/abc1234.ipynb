{
  "cells": [
    {
      "cell_type": "markdown",
      "source": [
        "<a id=\"begin\"></a>\n",
        "# Generating COMBINE Archives from the SBML Test Suite\n",
        "\n",
        "The [SBML test suite](http://sbml.org/Software/SBML_Test_Suite) is intended to test the accuracy SBML ODE simulators by providing a normative standard to compare simulation results to. The test suite predates SED-ML and specifies the simulation parameters in a custom format. However, recent versions include the SED-ML necessary to reproduce the simulations. Here, we provide an automated script to convert these test cases into COMBINE archives, which can be imported in Tellurium.\n",
        "\n",
        "This notebook is adapted from Stanley Gu's original [here](http://nbviewer.jupyter.org/github/stanleygu/sbmltest2archive/blob/master/create_archives.ipynb).\n",
        "\n",
        "This notebook shows how to convert the SBML test suite into COMBINE archives. An accompanying notebook actually runs the tests.\n",
        "\n",
        "Tellurium's current pass/fail status for these test cases is [here](https://docs.google.com/spreadsheets/d/1bGF2vGVsBBknL4-nMo6kkg5-18VnpmhfzuO3h7eBhWE/edit?usp=sharing).\n",
        "\n**Tip**: Double-click this cell to edit it."
      ],
      "metadata": {}
    },
    {
      "cell_type": "code",
      "source": [
        "import pprint, tellurium as te\n",
        "\n",
        "# level and version of SBML to use\n",
        "lv_string = 'l3v1'\n",
        "# run all supported test cases\n",
        "cases = te.getSupportedTestCases()\n",
        "# run just a subset containing all supported cases between 1 and 10\n",
        "# cases = te.getSupportedTestCases(0,100)\n",
        "print('Using the following {} cases:'.format(len(cases)))\n",
        "pprint.PrettyPrinter().pprint(cases)\n",
        "# maximum cutoff for passing a test case (per-variable)\n",
        "max_threshold = 1e-3"
      ],
      "outputs": [],
      "execution_count": 2,
      "metadata": {
        "collapsed": false,
        "outputHidden": false,
        "inputHidden": false
      }
    },
    {
      "cell_type": "markdown",
      "source": [
        "## Step 2: Download the SBML test cases"
      ],
      "metadata": {}
    },
    {
      "cell_type": "code",
      "source": [
        "import os.path\n",
        "import platform\n",
        "\n",
        "if not platform.system() == 'Linux':\n",
        "    import urllib.request\n",
        "    # url for the test case archive \n",
        "    url = 'http://sourceforge.net/projects/sbml/files/test-suite/3.1.1/cases-archive/sbml-test-cases-2014-10-22.zip'\n",
        "\n",
        "    test_cases_filename = 'sbml-test-cases.zip'\n",
        "\n",
        "    # download the test case archive\n",
        "    with urllib.request.urlopen(url) as response, open(test_cases_filename, 'wb') as out_file:\n",
        "        out_file.write(response.read())\n",
        "else:\n",
        "    !wget http://sourceforge.net/projects/sbml/files/test-suite/3.1.1/cases-archive/sbml-test-cases-2014-10-22.zip\n",
        "    %mv sbml-test-cases-2014-10-22.zip sbml-test-cases.zip\n",
        "\nprint('Downloaded test case archive to {}'.format(os.path.abspath(test_cases_filename)))"
      ],
      "outputs": [],
      "execution_count": 5,
      "metadata": {
        "collapsed": false,
        "outputHidden": false,
        "inputHidden": false
      }
    },
    {
      "cell_type": "markdown",
      "source": [
        "## Step 3: Extract the Test Case Archive"
      ],
      "metadata": {}
    },
    {
      "cell_type": "code",
      "source": [
        "import os, errno, zipfile\n",
        "\n",
        "# extract to 'archives' directory\n",
        "with zipfile.ZipFile(test_cases_filename) as z:\n",
        "    z.extractall('.')\n",
        "    \n",
        "print('Extracted test cases to {}'.format(os.path.abspath('.')))"
      ],
      "outputs": [],
      "execution_count": 6,
      "metadata": {
        "collapsed": false,
        "outputHidden": false,
        "inputHidden": false
      }
    },
    {
      "cell_type": "markdown",
      "source": [
        "## Step 4: Create COMBINE Archives\n",
        "\n",
        "Here, we create COMBINE archives for SBML Level 3 Version 1. We could package all levels and versions in the same COMBINE archive, but this would drastically increase simulation time.\n",
        "\nFirst, we will set the level and version used to pick out only L3V1 SBML test cases (all SED-ML in this example is L1V1):"
      ],
      "metadata": {}
    },
    {
      "cell_type": "markdown",
      "source": [
        "Next, we create the directory structure for the archives"
      ],
      "metadata": {}
    },
    {
      "cell_type": "code",
      "source": [
        "# create a function to make a new directory if it doesn't already exist\n",
        "def mkdirp(path):\n",
        "    try:\n",
        "        os.makedirs(path)\n",
        "    except OSError as exc:\n",
        "        if exc.errno == errno.EEXIST and os.path.isdir(path):\n",
        "            pass\n",
        "        else:\n",
        "            raise\n",
        "\n",
        "# make a new directory for this level and version if it doesn't already exist\n",
        "lv_archive_path = os.path.join('archives', lv_string)\n",
        "mkdirp(lv_archive_path)\n",
        "\nprint('Created directory {}'.format(lv_archive_path))"
      ],
      "outputs": [],
      "execution_count": 7,
      "metadata": {
        "collapsed": false,
        "outputHidden": false,
        "inputHidden": false
      }
    },
    {
      "cell_type": "markdown",
      "source": [
        "## Step 5: Create the archives by including SBML, SED-ML, and results files."
      ],
      "metadata": {}
    },
    {
      "cell_type": "code",
      "source": [
        "import re\n",
        "from xml.dom import minidom\n",
        "import xml.etree.ElementTree as ET\n",
        "\n",
        "n_archives_written = 0\n",
        "\n",
        "for case in cases:\n",
        "    test_case_path = os.path.join('cases', 'semantic', case)\n",
        "    ls = os.listdir(test_case_path)\n",
        "    # Only L3V1:\n",
        "    regex_sbml = re.compile(case + r'-sbml-{}\\.xml'.format(lv_string), re.IGNORECASE)\n",
        "    regex_sedml = re.compile(case + r'-sbml-{}-sedml\\.xml'.format(lv_string), re.IGNORECASE)\n",
        "    regex_csv = re.compile(case + r'-results\\.csv$', re.IGNORECASE)\n",
        "    # All levels/versions:\n",
        "    # regex_sbml = re.compile(case + '-sbml-l\\dv\\d\\.xml', re.IGNORECASE)\n",
        "    # regex_sedml = re.compile(case + '-sbml-l\\dv\\d\\-sedml.xml', re.IGNORECASE)\n",
        "\n",
        "    sbmlfiles = sorted([file for file in ls if regex_sbml.search(file)])\n",
        "    sedmlfiles = sorted([file for file in ls if regex_sedml.search(file)])\n",
        "    csvfiles = sorted([file for file in ls if regex_csv.search(file)])\n",
        "    plot_file = [file for file in ls if 'plot.jpg' in file][0]\n",
        "\n",
        "    ET.register_namespace('', 'http://identifiers.org/combine.specifications/omex-manifest')\n",
        "    manifest_template = '''<?xml version=\"1.0\" encoding=\"UTF-8\"?>\n",
        "    <omexManifest\n",
        "        xmlns=\"http://identifiers.org/combine.specifications/omex-manifest\"\n",
        "        xmlns:xsi=\"http://www.w3.org/2001/XMLSchema-instance\"\n",
        "        xsi:schemaLocation=\"http://identifiers.org/combine.specifications/omex-manifest combine.xsd \"></omexManifest>\n",
        "    '''\n",
        "\n",
        "    doc = ET.fromstring(manifest_template)\n",
        "    manifest = ET.SubElement(doc, 'content')\n",
        "    manifest.attrib['format'] = 'http://identifiers.org/combine.specifications/omex-manifest'\n",
        "    manifest.attrib['location'] = './manifest.xml'\n",
        "\n",
        "    for sbmlfile in sbmlfiles:\n",
        "        model = ET.SubElement(doc, 'content')\n",
        "        model.attrib['format'] = 'http://identifiers.org/combine.specifications/sbml'\n",
        "        model.attrib['location'] = './' + sbmlfile\n",
        "\n",
        "    for sedmlfile in sedmlfiles:\n",
        "        sedml = ET.SubElement(doc, 'content')\n",
        "        sedml.attrib['format'] = 'http://identifiers.org/combine.specifications/sed-ml.level-1.version-1'\n",
        "        sedml.attrib['location'] = './' + sedmlfile\n",
        "        sedml.attrib['master'] = 'true'\n",
        "\n",
        "    for csvfile in csvfiles:\n",
        "        csv = ET.SubElement(doc, 'content')\n",
        "        csv.attrib['format'] = 'http://identifiers.org/combine.specifications/csv'\n",
        "        csv.attrib['location'] = './' + csvfile\n",
        "        \n",
        "    archive_files = sbmlfiles + sedmlfiles + csvfiles\n",
        "\n",
        "    xml_str = ET.tostring(doc, encoding='UTF-8')\n",
        "    # reparse the xml string to pretty print it\n",
        "    reparsed = minidom.parseString(xml_str)\n",
        "    pretty_xml_str = reparsed.toprettyxml(indent=\"    \")\n",
        "\n",
        "    # use zipfile to create Combine archive containing\n",
        "    from zipfile import ZipFile\n",
        "    archive_name = case + '.omex'\n",
        "    archive_path = os.path.join('archives', lv_string, archive_name)\n",
        "    initial_wd = os.getcwd()\n",
        "    ls = os.listdir(test_case_path)\n",
        "    with ZipFile(archive_path, 'w') as archive:\n",
        "        # write the manifest\n",
        "        archive.writestr('manifest.xml', pretty_xml_str.encode('utf-8'))\n",
        "        os.chdir(test_case_path)\n",
        "        for f in archive_files:\n",
        "            archive.write(f)\n",
        "\n",
        "    os.chdir(initial_wd)\n",
        "    \n",
        "    # print the number of contained files (add +1 for the manifest)\n",
        "    print('Created {} (containing {} files)'.format(archive_path, 1+len(archive_files)))\n",
        "    \n",
        "    n_archives_written += 1\n",
        "\nprint('Finished writing archives ({} total archives written)'.format(n_archives_written))"
      ],
      "outputs": [],
      "execution_count": 8,
      "metadata": {
        "collapsed": false,
        "outputHidden": false,
        "inputHidden": false
      }
    }
  ],
  "metadata": {
    "kernelspec": {
      "name": "python3",
      "language": "python",
      "display_name": "Python 3 (built-in)"
    },
    "kernel_info": {
      "name": "python3"
    },
    "language_info": {
      "name": "python",
      "version": "3.6.1",
      "mimetype": "text/x-python",
      "codemirror_mode": {
        "name": "ipython",
        "version": 3
      },
      "pygments_lexer": "ipython3",
      "nbconvert_exporter": "python",
      "file_extension": ".py"
    }
  },
  "nbformat": 4,
  "nbformat_minor": 4
}