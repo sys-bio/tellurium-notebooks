{
  "cells": [
    {
      "cell_type": "code",
      "source": [
        "model *lorenz()\n",
        "  // Rate Rules:\n",
        "  x' = sigma*(y - x);\n",
        "  y' = x*(rho - z) - y;\n",
        "  z' = x*y - beta*z;\n",
        "  \n",
        "  x = 0.96259;\n",
        "  sigma = 10;\n",
        "  y = 2.07272;\n",
        "  rho = 28;\n",
        "  z = 18.65888;\n",
        "  beta = 2.67;\n",
        "end\n",
        "// Models\n",
        "model1 = model \"lorenz\"\n",
        "// Simulations\n",
        "sim1 = simulate uniform(0, 15, 2000)\n",
        "// Tasks\n",
        "task1 = run sim1 on model1\n",
        "// Outputs\n",
        "plot \"Phase Plot\" z vs x"
      ],
      "outputs": [],
      "execution_count": null,
      "metadata": {
        "collapsed": false,
        "outputHidden": false,
        "inputHidden": false,
        "tellurium": {
          "te_cell_type": "omex"
        }
      }
    }
  ],
  "metadata": {
    "kernelspec": {
      "name": "python3",
      "language": "python",
      "display_name": "Python 3"
    },
    "kernel_info": {
      "name": "python3"
    },
    "language_info": {
      "name": "python",
      "version": "3.6.1",
      "mimetype": "text/x-python",
      "codemirror_mode": {
        "name": "ipython",
        "version": 3
      },
      "pygments_lexer": "ipython3",
      "nbconvert_exporter": "python",
      "file_extension": ".py"
    }
  },
  "nbformat": 4,
  "nbformat_minor": 4
}