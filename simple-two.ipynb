{
  "cells": [
    {
      "cell_type": "code",
      "source": [
        "// SBML Part\n",
        "model *myModel()\n",
        "  // Reactions:\n",
        "  J0: A -> B; k*A;\n",
        "  A = 10;\n",
        "  k = 1;\n",
        "end\n",
        "// SED-ML Part\n",
        "// Models\n",
        "model1 = model \"myModel\"\n",
        "// Simulations\n",
        "simulation1 = simulate uniform(0, 5, 100)\n",
        "simulation2 = simulate uniform_stochastic(0, 5, 100)\n",
        "// Tasks\n",
        "task1 = run simulation1 on model1\n",
        "task2 = run simulation2 on model1\n",
        "// Outputs\n",
        "plot \"Deterministic Solution\" task1.time vs task1.A, task1.B\n",
        "plot \"Stochastic Solution\" task2.time vs task2.A, task2.B"
      ],
      "outputs": [],
      "execution_count": 3,
      "metadata": {
        "collapsed": false,
        "outputHidden": false,
        "inputHidden": false,
        "tellurium": {
          "te_cell_type": "omex"
        }
      }
    }
  ],
  "metadata": {
    "kernelspec": {
      "name": "python3",
      "language": "python",
      "display_name": "Python 3"
    },
    "kernel_info": {
      "name": "python3"
    },
    "language_info": {
      "name": "python",
      "version": "3.6.1",
      "mimetype": "text/x-python",
      "codemirror_mode": {
        "name": "ipython",
        "version": 3
      },
      "pygments_lexer": "ipython3",
      "nbconvert_exporter": "python",
      "file_extension": ".py"
    }
  },
  "nbformat": 4,
  "nbformat_minor": 4
}