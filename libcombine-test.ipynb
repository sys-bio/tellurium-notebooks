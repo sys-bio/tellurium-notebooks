{
  "cells": [
    {
      "cell_type": "code",
      "source": [
        "# read-only: contents of archive not printed\n",
        "%cd /\n",
        "# read/write: contents of archive are printed\n",
        "# %cd ~"
      ],
      "outputs": [
        {
          "output_type": "stream",
          "name": "stdout",
          "text": [
            "/\n"
          ]
        }
      ],
      "execution_count": 13,
      "metadata": {
        "collapsed": false,
        "outputHidden": false,
        "inputHidden": false
      }
    },
    {
      "cell_type": "code",
      "source": [
        "#!/usr/bin/env python\n",
        "\"\"\"\n",
        "Example prints contents of combine archive.\n",
        "\"\"\"\n",
        "from __future__ import print_function\n",
        "import sys\n",
        "\n",
        "from tecombine import *\n",
        "\n\n",
        "def printMetaDataFor(archive, location):\n",
        "    \"\"\" Prints metadata for given location.\n",
        "    :param archive: CombineArchive instance\n",
        "    :param location:\n",
        "    :return:\n",
        "    \"\"\"\n",
        "    desc = archive.getMetadataForLocation(location)\n",
        "    if desc.isEmpty():\n",
        "        print(\"  no metadata for '{0}'\".format(location))\n",
        "        return None\n",
        "\n",
        "    print(\"  metadata for '{0}':\".format(location))\n",
        "    print(\"     Created : {0}\".format(desc.getCreated().getDateAsString()))\n",
        "    for i in range(desc.getNumModified()):\n",
        "        print(\"     Modified : {0}\".format(desc.getModified(i).getDateAsString()))\n",
        "\n",
        "    print(\"     # Creators: {0}\".format(desc.getNumCreators()))\n",
        "    for i in range(desc.getNumCreators()):\n",
        "        creator = desc.getCreator(i)\n",
        "        print(\"       {0} {1}\".format(creator.getGivenName(), creator.getFamilyName()))\n",
        "\n\n",
        "def printArchive(fileName):\n",
        "    \"\"\" Prints content of combine archive\n",
        "    :param fileName: path of archive\n",
        "    :return: None\n",
        "    \"\"\"\n",
        "    archive = CombineArchive()\n",
        "    if archive.initializeFromArchive(fileName) is None:\n",
        "        print(\"Invalid Combine Archive\")\n",
        "        return None\n",
        "\n",
        "    print('*'*80)\n",
        "    print('Print archive:', fileName)\n",
        "    print('*' * 80)\n",
        "    printMetaDataFor(archive, \".\")\n",
        "    print(\"Num Entries: {0}\".format(archive.getNumEntries()))\n",
        "\n",
        "    for i in range(archive.getNumEntries()):\n",
        "        entry = archive.getEntry(i)\n",
        "        print(\" {0}: location: {1} format: {2}\".format(i, entry.getLocation(), entry.getFormat()))\n",
        "        printMetaDataFor(archive, entry.getLocation())\n",
        "        print(archive.extractEntryToString(\n",
        "            entry.getLocation()).encode('utf8','replace')[:10])\n",
        "\n",
        "        # the entry could now be extracted via\n",
        "        # archive.extractEntry(entry.getLocation(), <filename or folder>)\n",
        "\n",
        "        # or used as string\n",
        "        # content = archive.extractEntryToString(entry.getLocation());\n",
        "\n",
        "    archive.cleanUp()\n"
      ],
      "outputs": [],
      "execution_count": 14,
      "metadata": {
        "collapsed": false,
        "outputHidden": false,
        "inputHidden": false
      }
    },
    {
      "cell_type": "code",
      "source": [
        "printArchive('/home/poltergeist/devel/src/tellurium-combine-archive-test-cases/swt/pulse_experiment.omex')"
      ],
      "outputs": [
        {
          "output_type": "stream",
          "name": "stdout",
          "text": [
            "********************************************************************************\n",
            "Print archive: /home/poltergeist/devel/src/tellurium-combine-archive-test-cases/swt/pulse_experiment.omex\n",
            "********************************************************************************\n",
            "  no metadata for '.'\n",
            "Num Entries: 4\n",
            " 0: location: model1.xml format: http://identifiers.org/combine.specifications/sbml\n",
            "  no metadata for 'model1.xml'\n",
            "b''\n",
            " 1: location: simresults.xml format: http://identifiers.org/combine.specifications/sed-ml\n",
            "  no metadata for 'simresults.xml'\n",
            "b''\n",
            " 2: location: report1.xml format: \n",
            "  no metadata for 'report1.xml'\n",
            "b''\n",
            " 3: location: plot1.png format: image/png\n",
            "  no metadata for 'plot1.png'\n",
            "b''\n"
          ]
        }
      ],
      "execution_count": 15,
      "metadata": {
        "collapsed": false,
        "outputHidden": false,
        "inputHidden": false
      }
    }
  ],
  "metadata": {
    "kernelspec": {
      "name": "python3",
      "language": "python",
      "display_name": "Python 3"
    },
    "kernel_info": {
      "name": "python3"
    },
    "language_info": {
      "name": "python",
      "version": "3.6.1",
      "mimetype": "text/x-python",
      "codemirror_mode": {
        "name": "ipython",
        "version": 3
      },
      "pygments_lexer": "ipython3",
      "nbconvert_exporter": "python",
      "file_extension": ".py"
    }
  },
  "nbformat": 4,
  "nbformat_minor": 4
}