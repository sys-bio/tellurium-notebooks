{
  "cells": [
    {
      "cell_type": "code",
      "source": [
        "  // SBO terms:\n",
        "  // - Compartment SBO Terms:\n",
        "  cell_1.sboTerm = SBO:0000290;\n",
        "  // - Species SBO Terms:\n",
        "  Clb2T_1.sboTerm = SBO:0000252;\n",
        "  Clb5T_1.sboTerm = SBO:0000252;\n",
        "  Cln_1.sboTerm = SBO:0000252;\n",
        "  Cdc20_1.sboTerm = SBO:0000252;\n",
        "  Cdh1_1.sboTerm = SBO:0000252;\n",
        "  Sic1T_1.sboTerm = SBO:0000252;\n",
        "  Trim2_1.sboTerm = SBO:0000297;\n",
        "  Trim5_1.sboTerm = SBO:0000297;\n",
        "  Swi5_1.sboTerm = SBO:0000252;\n",
        "  Mcm_1.sboTerm = SBO:0000297;\n",
        "  MBF_1.sboTerm = SBO:0000252;\n",
        "  Pds1T_1.sboTerm = SBO:0000252;\n",
        "  Esp1T_1.sboTerm = SBO:0000252;\n",
        "  PoloT_1.sboTerm = SBO:0000252;\n",
        "  Polo_1.sboTerm = SBO:0000252;\n",
        "  Net1dep_1.sboTerm = SBO:0000252;\n",
        "  Net1pp_1.sboTerm = SBO:0000252;\n",
        "  RENT_1.sboTerm = SBO:0000297;\n",
        "  RENTp_1.sboTerm = SBO:0000297;\n",
        "  Cdc14n_1.sboTerm = SBO:0000252;\n",
        "  Tem1_1.sboTerm = SBO:0000252;\n",
        "  Cdc15_1.sboTerm = SBO:0000252;\n",
        "  MEN_1.sboTerm = SBO:0000297;\n",
        "  Clb2_2.sboTerm = SBO:0000252;\n",
        "  Clb5_1.sboTerm = SBO:0000252;\n",
        "  Sic1_1.sboTerm = SBO:0000252;\n",
        "  Pds1_1.sboTerm = SBO:0000252;\n",
        "  Esp1b_1.sboTerm = SBO:0000252;\n",
        "  Esp1_1.sboTerm = SBO:0000252;\n",
        "  Net1p_1.sboTerm = SBO:0000252;\n",
        "  Net1_2.sboTerm = SBO:0000252;\n",
        "  Cdc14c_1.sboTerm = SBO:0000252;"
      ],
      "outputs": [],
      "execution_count": null,
      "metadata": {
        "collapsed": false,
        "outputHidden": false,
        "inputHidden": false,
        "tellurium": {
          "te_cell_type": "omex"
        }
      }
    }
  ],
  "metadata": {
    "kernelspec": {
      "name": "tepython3",
      "language": "python",
      "display_name": "Python 3 (built-in)"
    },
    "kernel_info": {
      "name": "tepython3"
    },
    "language_info": {
      "name": "python",
      "version": "3.6.1",
      "mimetype": "text/x-python",
      "codemirror_mode": {
        "name": "ipython",
        "version": 3
      },
      "pygments_lexer": "ipython3",
      "nbconvert_exporter": "python",
      "file_extension": ".py"
    }
  },
  "nbformat": 4,
  "nbformat_minor": 4
}