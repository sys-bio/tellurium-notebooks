{
  "cells": [
    {
      "cell_type": "code",
      "source": [
        "import json"
      ],
      "outputs": [],
      "execution_count": 1,
      "metadata": {
        "collapsed": false,
        "outputHidden": false,
        "inputHidden": false
      }
    },
    {
      "cell_type": "code",
      "source": [
        "from itertools import chain\n",
        "from numpy import mean, nan_to_num\n",
        "with open('/home/poltergeist/devel/src/tellurium-notebooks/distrib/rb5-deltas.json') as f:\n",
        "    ip,host,island_id,raw_deltas = json.load(f)[0][:4]\n",
        "#     for d,ids in raw_deltas:\n",
        "#         print(d)\n",
        "#         print(mean(d))\n",
        "    champions = [c for c,d,ids in raw_deltas]\n",
        "    delta_means = [float(nan_to_num(mean(d))) for c,d,ids in raw_deltas]\n",
        "    deltas = list(chain.from_iterable((d for c,d,ids in raw_deltas)))"
      ],
      "outputs": [],
      "execution_count": 2,
      "metadata": {
        "collapsed": false,
        "outputHidden": false,
        "inputHidden": false
      }
    },
    {
      "cell_type": "code",
      "source": [
        "import plotly\n",
        "import plotly.graph_objs as go\n",
        "bar_deltas = go.Bar(y=delta_means)\n",
        "\n",
        "scatter_champions = go.Scatter(\n",
        "    y = champions,\n",
        "    mode = 'lines',\n",
        "    name = 'lines',\n",
        "    yaxis = 'y2'\n",
        ")\n",
        "\n",
        "layout = go.Layout(\n",
        "    title='2-Island DE',\n",
        "    yaxis=dict(\n",
        "        title='Migrant delta (avg.)'\n",
        "    ),\n",
        "    yaxis2=dict(\n",
        "        title='Champion fitness',\n",
        "        titlefont=dict(\n",
        "            color='rgb(148, 103, 189)'\n",
        "        ),\n",
        "        tickfont=dict(\n",
        "            color='rgb(148, 103, 189)'\n",
        "        ),\n",
        "        overlaying='y',\n",
        "        side='right'\n",
        "    )\n",
        ")\n",
        "\nplotly.offline.iplot(go.Figure(data=[bar_deltas,scatter_champions],layout=layout))"
      ],
      "outputs": [],
      "execution_count": 3,
      "metadata": {
        "collapsed": false,
        "outputHidden": false,
        "inputHidden": false
      }
    },
    {
      "cell_type": "code",
      "source": [],
      "outputs": [],
      "execution_count": 4,
      "metadata": {
        "collapsed": false,
        "outputHidden": false,
        "inputHidden": false
      }
    }
  ],
  "metadata": {
    "kernelspec": {
      "name": "python3",
      "language": "python",
      "display_name": "Python 3 (built-in)"
    },
    "kernel_info": {
      "name": "python3"
    },
    "language_info": {
      "name": "python",
      "version": "3.6.3",
      "mimetype": "text/x-python",
      "codemirror_mode": {
        "name": "ipython",
        "version": 3
      },
      "pygments_lexer": "ipython3",
      "nbconvert_exporter": "python",
      "file_extension": ".py"
    }
  },
  "nbformat": 4,
  "nbformat_minor": 4
}