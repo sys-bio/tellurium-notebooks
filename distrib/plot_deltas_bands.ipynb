{
  "cells": [
    {
      "cell_type": "code",
      "source": [
        "%cd ~/devel/src/tellurium-notebooks\n",
        "from numpy import load, concatenate, arange, flip\n",
        "\n",
        "champ_arrays = load('./distrib/champions.npz')\n",
        "stage_delta_arrays = load('./distrib/stage_deltas.npz')\n",
        "single_champs = load('./distrib/rb-single-champions.npz')\n",
        "\n",
        "def plot(champions_mean, champions_std, stage_deltas_mean, stage_deltas_std, single_champions_mean,single_champions_std):\n",
        "    import plotly\n",
        "    import plotly.graph_objs as go\n",
        "    bar_deltas = go.Bar(y=stage_deltas_mean)\n",
        "    print(single_champions_mean)\n",
        "\n",
        "    scatter_champions = go.Scatter(\n",
        "        y = champions_mean,\n",
        "        mode = 'lines',\n",
        "        name = 'Champion mean',\n",
        "        yaxis = 'y2'\n",
        "    )\n",
        "    scatter_single_champions = go.Scatter(\n",
        "        y = single_champions_mean,\n",
        "        mode = 'lines',\n",
        "        name = 'Single champions',\n",
        "        yaxis = 'y2'\n",
        "    )\n",
        "    champions_band = go.Scatter(\n",
        "        x = concatenate((arange(champions_mean.size),arange(start=champions_mean.size-1,stop=-1,step=-1))),\n",
        "        y = concatenate((champions_mean+champions_std,flip(champions_mean-champions_std,axis=0))),\n",
        "        mode = 'lines',\n",
        "        name = 'Champion stdev',\n",
        "        fill = 'tozerox',\n",
        "        yaxis = 'y2',\n",
        "    )\n",
        "\n",
        "    layout = go.Layout(\n",
        "        title='2-Island DE',\n",
        "        yaxis=dict(\n",
        "            title='Migrant delta (avg.)'\n",
        "        ),\n",
        "        yaxis2=dict(\n",
        "            title='Champion fitness',\n",
        "            titlefont=dict(\n",
        "                color='rgb(148, 103, 189)'\n",
        "            ),\n",
        "            tickfont=dict(\n",
        "                color='rgb(148, 103, 189)'\n",
        "            ),\n",
        "            overlaying='y',\n",
        "            side='right'\n",
        "        )\n",
        "    )\n",
        "\n",
        "    plotly.offline.iplot(go.Figure(data=[bar_deltas,champions_band,scatter_champions,scatter_single_champions],layout=layout))\n",
        "\nplot(**champ_arrays,**stage_delta_arrays,**single_champs)"
      ],
      "outputs": [],
      "execution_count": 2,
      "metadata": {
        "collapsed": false,
        "outputHidden": false,
        "inputHidden": false
      }
    },
    {
      "cell_type": "code",
      "source": [],
      "outputs": [],
      "execution_count": null,
      "metadata": {
        "collapsed": false,
        "outputHidden": false,
        "inputHidden": false
      }
    }
  ],
  "metadata": {
    "kernelspec": {
      "name": "python3",
      "language": "python",
      "display_name": "Python 3 (built-in)"
    },
    "kernel_info": {
      "name": "python3"
    },
    "language_info": {
      "name": "python",
      "version": "3.6.3",
      "mimetype": "text/x-python",
      "codemirror_mode": {
        "name": "ipython",
        "version": 3
      },
      "pygments_lexer": "ipython3",
      "nbconvert_exporter": "python",
      "file_extension": ".py"
    }
  },
  "nbformat": 4,
  "nbformat_minor": 4
}