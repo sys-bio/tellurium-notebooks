{
  "cells": [
    {
      "cell_type": "code",
      "source": [
        "  ...\n",
        "  R23: $UbE => UbE_star; kc*IE_p*(total_UbE - UbE_star)/(K_c + total_UbE - UbE_star);\n",
        "  ...\n",
        "\n",
        "// Models\n",
        "model_extract = model \"novak\"\n",
        "model_intact = model \"novak\" with k1AA = 1.8, V2_prime = 0.03, ka = 0.05, kc = 0.4, ke = 0.0067, kg = 0.02, kbPPase = 0.0375, kd_anti_IE = 0.25, kfPPase = 0.05, khPPAse = 0.27\n",
        "\n",
        "// Simulations\n",
        "sim1 = simulate uniform(0, 200, 1000)\n",
        "sim1.algorithm.variable_step_size = true\n",
        "sim1.algorithm.absolute_tolerance = 1e-8\n",
        "sim1.algorithm.relative_tolerance = 1e-4\n",
        "\n",
        "// Tasks\n",
        "extract = run sim1 on model_extract\n",
        "intact = run sim1 on model_intact\n",
        "\n",
        "// Outputs\n",
        "plot \"M-phase Control, Extract (Novak, 1993)\" extract.time vs extract.total_cyclin, extract.p_dimer_p, extract.dimer_p\n",
        "plot \"M-phase Control, Intact Embryo (Novak, 1993)\" intact.time vs intact.total_cyclin, intact.p_dimer_p, intact.dimer_p"
      ],
      "outputs": [],
      "execution_count": null,
      "metadata": {
        "collapsed": false,
        "outputHidden": false,
        "inputHidden": false,
        "tellurium": {
          "te_cell_type": "omex"
        }
      }
    }
  ],
  "metadata": {
    "kernelspec": {
      "name": "tepython3",
      "language": "python",
      "display_name": "Python 3 (built-in)"
    },
    "kernel_info": {
      "name": "tepython3"
    },
    "language_info": {
      "name": "python",
      "version": "3.6.1",
      "mimetype": "text/x-python",
      "codemirror_mode": {
        "name": "ipython",
        "version": 3
      },
      "pygments_lexer": "ipython3",
      "nbconvert_exporter": "python",
      "file_extension": ".py"
    }
  },
  "nbformat": 4,
  "nbformat_minor": 4
}