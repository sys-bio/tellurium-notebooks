{
  "cells": [
    {
      "cell_type": "markdown",
      "source": [
        "<a id=\"topcell\"></a>\n",
        "\n",
        "# Tellurium Notebook Tutorial\n",
        "\n",
        "The Tellurium notebook environment is a self-contained Jupyter-like environment based on the [nteract](https://github.com/nteract/nteract) project. Tellurium adds special cells for working with [SBML](http://sbml.org/Main_Page) and [COMBINE archives](http://co.mbine.org/documents/archive) by representing these standards in human-readable form.\n",
        "\n",
        "Tellurium also features a variety of Python packages, such as the [libroadrunner](http://libroadrunner.org/) simulator, designed to provide a complete biochemical network modeling environment using Python.\n",
        "\n",
        "#### Contents:\n",
        "\n",
        "* ### [Example 1: A Simple SBML Model](#ex1)\n",
        "* ### [Example 2: Advanced SBML Features](#ex2)\n",
        "* ### [Example 3: Creating a COMBINE Archive](#ex3)"
      ],
      "metadata": {}
    },
    {
      "cell_type": "markdown",
      "source": [
        "<a id=\"ex1\"></a>\n",
        "\n",
        "## Example 1: A Simple SBML Model\n",
        "\n",
        "This example generates a very simple SBML model. Reactant `S1` is converted to product `S2` at a rate `k1*S1`. Running the following cell will generate an executable version of the model in the variable `simple`. You can then call the [simulate](http://sys-bio.github.io/roadrunner/python_docs/api_reference.html#RoadRunner.RoadRunner.simulate) method on this variable (specifying the start time, end time, and number of points), and plot the result.\n",
        "\n#### [Back to top](#topcell)"
      ],
      "metadata": {}
    },
    {
      "cell_type": "code",
      "source": [
        "model simple()\n",
        "  S1 -> S2; k1*S1\n",
        "  k1 = 0.1\n",
        "  S1 = 10\n",
        "end"
      ],
      "outputs": [],
      "execution_count": null,
      "metadata": {
        "collapsed": false,
        "outputHidden": false,
        "inputHidden": false,
        "tellurium": {
          "te_cell_type": "antimony"
        }
      }
    },
    {
      "cell_type": "code",
      "source": [
        "simple.simulate(0, 50, 100)\n",
        "simple.plot()"
      ],
      "outputs": [],
      "execution_count": null,
      "metadata": {
        "collapsed": false,
        "outputHidden": false,
        "inputHidden": false
      }
    },
    {
      "cell_type": "markdown",
      "source": [
        "<a id=\"ex2\"></a>\n",
        "\n",
        "## Example 2: Advanced SBML Features\n",
        "\n",
        "In this example, we will demonstrate the use of SBML **events**, **compartments**, and **assignment rules**. Events occur at discrete instants in time, and can be used to model the addition of a bolus of ligand etc. to the system. Compartments allow modeling of discrete volumetric spaces within a cell or system. Assignment rules provide a way to explicitly specify a value, as a function of time (as we do here) or otherwise.\n",
        "\n",
        "* There are two compartments: one containing species `A`, and one containing species `B`.\n",
        "* One mass unit of `A` is converted to one mass unit of `B`, but because `B`'s compartment is half the size, the concentration of `B` increases at twice the rate as `A` diminishes.\n",
        "* Half-way through the simulation, we add a bolus of `A`\n",
        "* Species `C` is neither created nor destroyed in a reaction - it is defined entirely by a rate rule.\n",
        "\n#### [Back to top](#topcell)"
      ],
      "metadata": {}
    },
    {
      "cell_type": "code",
      "source": [
        "model advanced()\n",
        "  # Create two compartments\n",
        "  compartment compA=1, compB=0.5 # B is half the volume of A\n",
        "  species A in compA, B in compB\n",
        "  # Use the label `J0` for the reaction\n",
        "  J0: A -> B; k*A\n",
        "  # C is defined by an assignment rule\n",
        "  species C\n",
        "  C := sin(2*time/3.14) # a sine wave\n",
        "  k = 0.1\n",
        "  A = 10\n",
        "  \n",
        "  # Event: half-way through the simulation,\n",
        "  # add a bolus of A\n",
        "  at time>=5: A = A+10\n",
        "end"
      ],
      "outputs": [],
      "execution_count": null,
      "metadata": {
        "collapsed": false,
        "outputHidden": false,
        "inputHidden": false,
        "tellurium": {
          "te_cell_type": "antimony"
        }
      }
    },
    {
      "cell_type": "code",
      "source": [
        "advanced.simulate(0, 10, 100)\n",
        "advanced.plot()"
      ],
      "outputs": [],
      "execution_count": null,
      "metadata": {
        "collapsed": false,
        "outputHidden": false,
        "inputHidden": false
      }
    },
    {
      "cell_type": "markdown",
      "source": [
        "<a id=\"ex3\"></a>\n",
        "\n",
        "## Example 3: Creating a COMBINE Archive\n",
        "\n",
        "COMBINE archives are containers for standards. They enable models encoded in SBML and simulations encoded in SED-ML to be exchanged between different tools. Tellurium displays COMBINE archives in an inline, human-readable form.\n",
        "\n",
        "To convert the SBML model of [Example 1](#ex1) into a COMBINE archive, we need to define four steps in the workflow, which correspond to distinct elements in SED–ML: (1) models, (2) simulations, (3) tasks, and (4) outputs.\n",
        "\n",
        "You can export this cell as a COMBINE archive by clicking on the diskette icon in the upper-right. You should be able to import it using other tools which support COMBINE archives, such as the [SED-ML Web Tools](http://sysbioapps.dyndns.org/SED-ML_Web_Tools) or [iBioSim](http://www.async.ece.utah.edu/ibiosim).\n",
        "\n#### [Back to top](#topcell)"
      ],
      "metadata": {}
    },
    {
      "cell_type": "code",
      "source": [
        "model simple()\n",
        "  S1 -> S2; k1*S1\n",
        "  k1 = 0.1\n",
        "  S1 = 10\n",
        "end\n",
        "\n",
        "# Models\n",
        "model1 = model \"simple\"\n",
        "# Simulations\n",
        "sim1 = simulate uniform(0, 50, 1000)\n",
        "// Tasks\n",
        "task1 = run sim1 on model1\n",
        "// Outputs\n",
        "plot \"COMBINE Archive Plot\" time vs S1, S2"
      ],
      "outputs": [],
      "execution_count": null,
      "metadata": {
        "collapsed": false,
        "outputHidden": false,
        "inputHidden": false,
        "tellurium": {
          "te_cell_type": "omex"
        }
      }
    }
  ],
  "metadata": {
    "kernelspec": {
      "name": "python3",
      "language": "python",
      "display_name": "Python 3"
    },
    "kernel_info": {
      "name": "python3"
    },
    "language_info": {
      "name": "python",
      "version": "3.6.1",
      "mimetype": "text/x-python",
      "codemirror_mode": {
        "name": "ipython",
        "version": 3
      },
      "pygments_lexer": "ipython3",
      "nbconvert_exporter": "python",
      "file_extension": ".py"
    }
  },
  "nbformat": 4,
  "nbformat_minor": 4
}