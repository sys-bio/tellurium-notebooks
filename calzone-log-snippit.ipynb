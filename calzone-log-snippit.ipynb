{
  "cells": [
    {
      "cell_type": "code",
      "source": [
        "...\n",
        "// Outputs\n",
        "plot \"Nuclear Comp\" task1.time vs task1.model1.Wee1n, task1.model1.MPFn, task1.model1.StgPn\n",
        "plot \"Nuclear Comp (Log)\" log10(task1.time) vs log10(task1.model1.Wee1n), log10(task1.model1.MPFn), log10(task1.model1.StgPn)\n",
        "plot \"X/mRNA\" task2.time vs task2.model2.Stgm, task2.model2.Xm, task2.model2.Xp\n",
        "plot \"X/mRNA (Log)\" log10(task2.time) vs log10(task2.model2.Stgm), log10(task2.model2.Xm), log10(task2.model2.Xp)\n",
        "..."
      ],
      "outputs": [],
      "execution_count": null,
      "metadata": {
        "collapsed": false,
        "outputHidden": false,
        "inputHidden": false,
        "tellurium": {
          "te_cell_type": "omex"
        }
      }
    }
  ],
  "metadata": {
    "kernelspec": {
      "name": "tepython3",
      "language": "python",
      "display_name": "Python 3 (built-in)"
    },
    "kernel_info": {
      "name": "tepython3"
    },
    "language_info": {
      "name": "python",
      "version": "3.6.1",
      "mimetype": "text/x-python",
      "codemirror_mode": {
        "name": "ipython",
        "version": 3
      },
      "pygments_lexer": "ipython3",
      "nbconvert_exporter": "python",
      "file_extension": ".py"
    }
  },
  "nbformat": 4,
  "nbformat_minor": 4
}